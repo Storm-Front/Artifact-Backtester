{
 "cells": [
  {
   "cell_type": "markdown",
   "metadata": {},
   "source": [
    "REQUEST AND DATA SHARING "
   ]
  },
  {
   "cell_type": "code",
   "execution_count": 1,
   "metadata": {},
   "outputs": [
    {
     "name": "stderr",
     "output_type": "stream",
     "text": [
      "/home/agrume/Desktop/informatica/Artifact_Bot/venv/lib/python3.10/site-packages/urllib3/connectionpool.py:1095: InsecureRequestWarning:\n",
      "\n",
      "Unverified HTTPS request is being made to host '0.0.0.0'. Adding certificate verification is strongly advised. See: https://urllib3.readthedocs.io/en/latest/advanced-usage.html#tls-warnings\n",
      "\n",
      "/home/agrume/Desktop/informatica/Artifact_Bot/venv/lib/python3.10/site-packages/urllib3/connectionpool.py:1095: InsecureRequestWarning:\n",
      "\n",
      "Unverified HTTPS request is being made to host '0.0.0.0'. Adding certificate verification is strongly advised. See: https://urllib3.readthedocs.io/en/latest/advanced-usage.html#tls-warnings\n",
      "\n"
     ]
    }
   ],
   "source": [
    "from dash_app_template.app import DashApp\n",
    "from artifact_backtester_client.backtester_client import BacktesterClient\n",
    "from pages.start_backtest import start_backtest_page\n",
    "from pages.overview_page import overview_page\n",
    "from dash_app_template.cache.flask_cache import FlaskCache\n",
    "import custom_template\n",
    "import plotly.io as pio\n",
    "pio.templates.default = \"darkly\"\n",
    "\n",
    "client=BacktesterClient(\n",
    "    'https://0.0.0.0:7000',\n",
    "    'Simone', \n",
    "    'password',\n",
    "    False\n",
    ")\n",
    "\n",
    "app= DashApp('TestApp')\n",
    "app.register_caching_strategy(FlaskCache(app.server))\n",
    "cache = app.cache\n",
    "\n",
    "client.login()\n",
    "cache.set('strategies', client.get_strategies()['strategies'])\n",
    "cache.set('executed_backtests', {})\n"
   ]
  },
  {
   "cell_type": "markdown",
   "metadata": {},
   "source": [
    "CONFIGURATION PAGE\n"
   ]
  },
  {
   "cell_type": "code",
   "execution_count": 2,
   "metadata": {},
   "outputs": [],
   "source": [
    "\n",
    "\n",
    "configuration=start_backtest_page(cache, client)\n",
    "\n",
    "app.register_page(configuration, '/','configuration')\n"
   ]
  },
  {
   "cell_type": "markdown",
   "metadata": {},
   "source": [
    "OVERVIEW PAGE"
   ]
  },
  {
   "cell_type": "code",
   "execution_count": 3,
   "metadata": {},
   "outputs": [],
   "source": [
    "overview=overview_page(cache, client)\n",
    "app.register_page(overview, '/overview','overview')\n"
   ]
  },
  {
   "cell_type": "markdown",
   "metadata": {},
   "source": [
    "RUN"
   ]
  },
  {
   "cell_type": "markdown",
   "metadata": {},
   "source": []
  },
  {
   "cell_type": "code",
   "execution_count": null,
   "metadata": {},
   "outputs": [],
   "source": []
  },
  {
   "cell_type": "code",
   "execution_count": null,
   "metadata": {},
   "outputs": [],
   "source": []
  },
  {
   "cell_type": "code",
   "execution_count": 4,
   "metadata": {},
   "outputs": [
    {
     "data": {
      "text/html": [
       "\n",
       "        <iframe\n",
       "            width=\"100%\"\n",
       "            height=\"650\"\n",
       "            src=\"http://127.0.0.1:8050/\"\n",
       "            frameborder=\"0\"\n",
       "            allowfullscreen\n",
       "            \n",
       "        ></iframe>\n",
       "        "
      ],
      "text/plain": [
       "<IPython.lib.display.IFrame at 0x7db9d877bee0>"
      ]
     },
     "metadata": {},
     "output_type": "display_data"
    },
    {
     "name": "stderr",
     "output_type": "stream",
     "text": [
      "/home/agrume/Desktop/informatica/Artifact_Bot/venv/lib/python3.10/site-packages/urllib3/connectionpool.py:1095: InsecureRequestWarning:\n",
      "\n",
      "Unverified HTTPS request is being made to host '0.0.0.0'. Adding certificate verification is strongly advised. See: https://urllib3.readthedocs.io/en/latest/advanced-usage.html#tls-warnings\n",
      "\n",
      "/home/agrume/Desktop/informatica/Artifact_Bot/venv/lib/python3.10/site-packages/urllib3/connectionpool.py:1095: InsecureRequestWarning:\n",
      "\n",
      "Unverified HTTPS request is being made to host '0.0.0.0'. Adding certificate verification is strongly advised. See: https://urllib3.readthedocs.io/en/latest/advanced-usage.html#tls-warnings\n",
      "\n"
     ]
    },
    {
     "name": "stdout",
     "output_type": "stream",
     "text": [
      "backtests--------------------------\n",
      "{'c262291f-bb35-4b97-869f-5e342a8bd770': {'start_date': None, 'end_date': None, 'strategy_name': 'sma_test', 'ohlcv_data_pool': None, 'strategy_params': {}, 'brokers_config': None}}\n",
      "ending_capital--------------------------\n"
     ]
    }
   ],
   "source": [
    "app.run(jupyter_mode='inline')"
   ]
  },
  {
   "cell_type": "code",
   "execution_count": null,
   "metadata": {},
   "outputs": [],
   "source": []
  },
  {
   "cell_type": "code",
   "execution_count": null,
   "metadata": {},
   "outputs": [],
   "source": []
  }
 ],
 "metadata": {
  "kernelspec": {
   "display_name": "venv",
   "language": "python",
   "name": "python3"
  },
  "language_info": {
   "codemirror_mode": {
    "name": "ipython",
    "version": 3
   },
   "file_extension": ".py",
   "mimetype": "text/x-python",
   "name": "python",
   "nbconvert_exporter": "python",
   "pygments_lexer": "ipython3",
   "version": "3.10.12"
  }
 },
 "nbformat": 4,
 "nbformat_minor": 2
}
